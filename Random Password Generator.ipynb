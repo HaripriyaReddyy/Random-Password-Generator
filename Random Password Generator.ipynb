{
 "cells": [
  {
   "cell_type": "code",
   "execution_count": 1,
   "id": "2e654030",
   "metadata": {},
   "outputs": [
    {
     "name": "stdout",
     "output_type": "stream",
     "text": [
      "Welcome to the PyPassword Generator!\n",
      "How many letters would you like in your password?\n",
      "4\n",
      "How many symbols would you like?\n",
      "4\n",
      "How many numbers would you like?\n",
      "4\n",
      "btdu&$*(5940\n"
     ]
    }
   ],
   "source": [
    "import random\n",
    "#importing the built in module \n",
    "\n",
    "letters = [\n",
    "    'a', 'b', 'c', 'd', 'e', 'f', 'g', 'h', 'i', 'j', 'k', 'l', 'm', 'n', 'o',\n",
    "    'p', 'q', 'r', 's', 't', 'u', 'v', 'w', 'x', 'y', 'z', 'A', 'B', 'C', 'D',\n",
    "    'E', 'F', 'G', 'H', 'I', 'J', 'K', 'L', 'M', 'N', 'O', 'P', 'Q', 'R', 'S',\n",
    "    'T', 'U', 'V', 'W', 'X', 'Y', 'Z'\n",
    "]\n",
    "numbers = ['0', '1', '2', '3', '4', '5', '6', '7', '8', '9']\n",
    "symbols = ['!', '#', '$', '%', '&', '(', ')', '*', '+']\n",
    "#Creating 3 different list namely letters, numbers and symbols.\n",
    "\n",
    "print(\"Welcome to the PyPassword Generator!\")\n",
    "nr_letters = int(input(\"How many letters would you like in your password?\\n\"))\n",
    "nr_symbols = int(input(f\"How many symbols would you like?\\n\"))\n",
    "nr_numbers = int(input(f\"How many numbers would you like?\\n\"))\n",
    "#taking the numbers of letter, symbols and numbers, and storing them in nr_letters, nr_symbols and nr_numbers respectively.\n",
    "password = \"\"\n",
    "#Creating a variable \n",
    "for char in range(1, nr_letters + 1):\n",
    "    password += random.choice(letters)\n",
    "#Selecting random letters from letters[]\n",
    "\n",
    "for symb in range(1, nr_symbols + 1):\n",
    "    password += random.choice(symbols)\n",
    "#Selecting random symbols from symbols[]\n",
    "\n",
    "for numb in range(1, nr_numbers + 1):\n",
    "    password += random.choice(numbers)\n",
    "#Selecting random numbers from numbers[]\n",
    "print(password)\n",
    "#Printing the unique password that consists of letters, numbers and symbols."
   ]
  },
  {
   "cell_type": "code",
   "execution_count": null,
   "id": "17f37e4d",
   "metadata": {},
   "outputs": [],
   "source": []
  }
 ],
 "metadata": {
  "kernelspec": {
   "display_name": "Python 3 (ipykernel)",
   "language": "python",
   "name": "python3"
  },
  "language_info": {
   "codemirror_mode": {
    "name": "ipython",
    "version": 3
   },
   "file_extension": ".py",
   "mimetype": "text/x-python",
   "name": "python",
   "nbconvert_exporter": "python",
   "pygments_lexer": "ipython3",
   "version": "3.9.12"
  }
 },
 "nbformat": 4,
 "nbformat_minor": 5
}
